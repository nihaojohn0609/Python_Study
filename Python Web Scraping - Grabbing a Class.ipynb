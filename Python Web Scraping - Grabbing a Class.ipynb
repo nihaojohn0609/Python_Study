{
 "cells": [
  {
   "cell_type": "code",
   "execution_count": 2,
   "id": "ab8223c7-e031-45e1-9eeb-3d5c7f55d493",
   "metadata": {},
   "outputs": [],
   "source": [
    "import requests"
   ]
  },
  {
   "cell_type": "code",
   "execution_count": 4,
   "id": "e4787cd4-7ff9-4cf8-b393-abc9bb9a6ad0",
   "metadata": {},
   "outputs": [],
   "source": [
    "import bs4"
   ]
  },
  {
   "cell_type": "code",
   "execution_count": 6,
   "id": "edc0d6ae-f734-4d06-8acf-574f1c5cb738",
   "metadata": {},
   "outputs": [],
   "source": [
    "res = requests.get('https://en.wikipedia.org/wiki/Grace_Hopper')"
   ]
  },
  {
   "cell_type": "code",
   "execution_count": 8,
   "id": "49bb5955-9963-4b0c-a313-cd5661be6642",
   "metadata": {},
   "outputs": [],
   "source": [
    "soup = bs4.BeautifulSoup(res.text, \"lxml\")"
   ]
  },
  {
   "cell_type": "code",
   "execution_count": 12,
   "id": "0a6cb39a-a32d-40a2-96e4-b1ac13c711fb",
   "metadata": {},
   "outputs": [],
   "source": [
    "# soup"
   ]
  },
  {
   "cell_type": "code",
   "execution_count": 18,
   "id": "86f108a2-0f2e-4aea-9407-9db9a7db59f5",
   "metadata": {},
   "outputs": [
    {
     "data": {
      "text/plain": [
       "[<div class=\"vector-toc-text\">(Top)</div>,\n",
       " <div class=\"vector-toc-text\">\n",
       " <span class=\"vector-toc-numb\">1</span>\n",
       " <span>Early life and education</span>\n",
       " </div>,\n",
       " <div class=\"vector-toc-text\">\n",
       " <span class=\"vector-toc-numb\">2</span>\n",
       " <span>Career</span>\n",
       " </div>,\n",
       " <div class=\"vector-toc-text\">\n",
       " <span class=\"vector-toc-numb\">2.1</span>\n",
       " <span>World War II</span>\n",
       " </div>,\n",
       " <div class=\"vector-toc-text\">\n",
       " <span class=\"vector-toc-numb\">2.2</span>\n",
       " <span>UNIVAC</span>\n",
       " </div>,\n",
       " <div class=\"vector-toc-text\">\n",
       " <span class=\"vector-toc-numb\">2.3</span>\n",
       " <span>COBOL</span>\n",
       " </div>,\n",
       " <div class=\"vector-toc-text\">\n",
       " <span class=\"vector-toc-numb\">2.4</span>\n",
       " <span>Standards</span>\n",
       " </div>,\n",
       " <div class=\"vector-toc-text\">\n",
       " <span class=\"vector-toc-numb\">3</span>\n",
       " <span>Retirement</span>\n",
       " </div>,\n",
       " <div class=\"vector-toc-text\">\n",
       " <span class=\"vector-toc-numb\">4</span>\n",
       " <span>Post-retirement</span>\n",
       " </div>,\n",
       " <div class=\"vector-toc-text\">\n",
       " <span class=\"vector-toc-numb\">5</span>\n",
       " <span>Anecdotes</span>\n",
       " </div>,\n",
       " <div class=\"vector-toc-text\">\n",
       " <span class=\"vector-toc-numb\">6</span>\n",
       " <span>Death</span>\n",
       " </div>,\n",
       " <div class=\"vector-toc-text\">\n",
       " <span class=\"vector-toc-numb\">7</span>\n",
       " <span>Dates of rank</span>\n",
       " </div>,\n",
       " <div class=\"vector-toc-text\">\n",
       " <span class=\"vector-toc-numb\">8</span>\n",
       " <span>Awards and honors</span>\n",
       " </div>,\n",
       " <div class=\"vector-toc-text\">\n",
       " <span class=\"vector-toc-numb\">8.1</span>\n",
       " <span>Military awards</span>\n",
       " </div>,\n",
       " <div class=\"vector-toc-text\">\n",
       " <span class=\"vector-toc-numb\">8.2</span>\n",
       " <span>Other awards</span>\n",
       " </div>,\n",
       " <div class=\"vector-toc-text\">\n",
       " <span class=\"vector-toc-numb\">9</span>\n",
       " <span>Legacy</span>\n",
       " </div>,\n",
       " <div class=\"vector-toc-text\">\n",
       " <span class=\"vector-toc-numb\">9.1</span>\n",
       " <span>Places</span>\n",
       " </div>,\n",
       " <div class=\"vector-toc-text\">\n",
       " <span class=\"vector-toc-numb\">9.2</span>\n",
       " <span>Programs</span>\n",
       " </div>,\n",
       " <div class=\"vector-toc-text\">\n",
       " <span class=\"vector-toc-numb\">9.3</span>\n",
       " <span>In popular culture</span>\n",
       " </div>,\n",
       " <div class=\"vector-toc-text\">\n",
       " <span class=\"vector-toc-numb\">9.3.1</span>\n",
       " <span>Grace Hopper Celebration of Women in Computing</span>\n",
       " </div>,\n",
       " <div class=\"vector-toc-text\">\n",
       " <span class=\"vector-toc-numb\">10</span>\n",
       " <span>See also</span>\n",
       " </div>,\n",
       " <div class=\"vector-toc-text\">\n",
       " <span class=\"vector-toc-numb\">11</span>\n",
       " <span>Notes</span>\n",
       " </div>,\n",
       " <div class=\"vector-toc-text\">\n",
       " <span class=\"vector-toc-numb\">12</span>\n",
       " <span>References</span>\n",
       " </div>,\n",
       " <div class=\"vector-toc-text\">\n",
       " <span class=\"vector-toc-numb\">13</span>\n",
       " <span>Obituary notices</span>\n",
       " </div>,\n",
       " <div class=\"vector-toc-text\">\n",
       " <span class=\"vector-toc-numb\">14</span>\n",
       " <span>Further reading</span>\n",
       " </div>,\n",
       " <div class=\"vector-toc-text\">\n",
       " <span class=\"vector-toc-numb\">15</span>\n",
       " <span>External links</span>\n",
       " </div>]"
      ]
     },
     "execution_count": 18,
     "metadata": {},
     "output_type": "execute_result"
    }
   ],
   "source": [
    "soup.select('.vector-toc-text')"
   ]
  },
  {
   "cell_type": "code",
   "execution_count": 20,
   "id": "ea75a51d-2fd2-41ff-9e72-88bd59d10f78",
   "metadata": {},
   "outputs": [
    {
     "data": {
      "text/plain": [
       "bs4.element.ResultSet"
      ]
     },
     "execution_count": 20,
     "metadata": {},
     "output_type": "execute_result"
    }
   ],
   "source": [
    "type(soup.select('.vector-toc-text'))"
   ]
  },
  {
   "cell_type": "code",
   "execution_count": 34,
   "id": "d1cf5524-28cf-4b2b-92d9-770fc1d69d27",
   "metadata": {},
   "outputs": [],
   "source": [
    "first_item = soup.select('.vector-toc-text')[0]"
   ]
  },
  {
   "cell_type": "code",
   "execution_count": 36,
   "id": "12c5f737-ab59-4992-8da3-ede10e36e507",
   "metadata": {},
   "outputs": [
    {
     "data": {
      "text/plain": [
       "'(Top)'"
      ]
     },
     "execution_count": 36,
     "metadata": {},
     "output_type": "execute_result"
    }
   ],
   "source": [
    "first_item.text"
   ]
  },
  {
   "cell_type": "code",
   "execution_count": 38,
   "id": "aedf4087-0552-4c53-8e7a-0c65b551f073",
   "metadata": {},
   "outputs": [
    {
     "name": "stdout",
     "output_type": "stream",
     "text": [
      "(Top)\n",
      "\n",
      "1\n",
      "Early life and education\n",
      "\n",
      "\n",
      "2\n",
      "Career\n",
      "\n",
      "\n",
      "2.1\n",
      "World War II\n",
      "\n",
      "\n",
      "2.2\n",
      "UNIVAC\n",
      "\n",
      "\n",
      "2.3\n",
      "COBOL\n",
      "\n",
      "\n",
      "2.4\n",
      "Standards\n",
      "\n",
      "\n",
      "3\n",
      "Retirement\n",
      "\n",
      "\n",
      "4\n",
      "Post-retirement\n",
      "\n",
      "\n",
      "5\n",
      "Anecdotes\n",
      "\n",
      "\n",
      "6\n",
      "Death\n",
      "\n",
      "\n",
      "7\n",
      "Dates of rank\n",
      "\n",
      "\n",
      "8\n",
      "Awards and honors\n",
      "\n",
      "\n",
      "8.1\n",
      "Military awards\n",
      "\n",
      "\n",
      "8.2\n",
      "Other awards\n",
      "\n",
      "\n",
      "9\n",
      "Legacy\n",
      "\n",
      "\n",
      "9.1\n",
      "Places\n",
      "\n",
      "\n",
      "9.2\n",
      "Programs\n",
      "\n",
      "\n",
      "9.3\n",
      "In popular culture\n",
      "\n",
      "\n",
      "9.3.1\n",
      "Grace Hopper Celebration of Women in Computing\n",
      "\n",
      "\n",
      "10\n",
      "See also\n",
      "\n",
      "\n",
      "11\n",
      "Notes\n",
      "\n",
      "\n",
      "12\n",
      "References\n",
      "\n",
      "\n",
      "13\n",
      "Obituary notices\n",
      "\n",
      "\n",
      "14\n",
      "Further reading\n",
      "\n",
      "\n",
      "15\n",
      "External links\n",
      "\n"
     ]
    }
   ],
   "source": [
    "for item in soup.select('.vector-toc-text'):\n",
    "    print(item.text)"
   ]
  }
 ],
 "metadata": {
  "kernelspec": {
   "display_name": "Python 3 (ipykernel)",
   "language": "python",
   "name": "python3"
  },
  "language_info": {
   "codemirror_mode": {
    "name": "ipython",
    "version": 3
   },
   "file_extension": ".py",
   "mimetype": "text/x-python",
   "name": "python",
   "nbconvert_exporter": "python",
   "pygments_lexer": "ipython3",
   "version": "3.11.7"
  }
 },
 "nbformat": 4,
 "nbformat_minor": 5
}
