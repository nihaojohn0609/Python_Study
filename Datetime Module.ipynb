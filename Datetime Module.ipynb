{
 "cells": [
  {
   "cell_type": "code",
   "execution_count": 2,
   "id": "e241de24-7409-4e2f-be23-b79b66e9811a",
   "metadata": {},
   "outputs": [],
   "source": [
    "import datetime"
   ]
  },
  {
   "cell_type": "code",
   "execution_count": 22,
   "id": "e6d98973-a4bc-445b-92f9-5e30c7167e1d",
   "metadata": {},
   "outputs": [],
   "source": [
    "mytime = datetime.time(13, 20, 1, 20)"
   ]
  },
  {
   "cell_type": "code",
   "execution_count": 24,
   "id": "78c35b8a-d359-4c92-be8e-08bd534c5564",
   "metadata": {},
   "outputs": [
    {
     "data": {
      "text/plain": [
       "20"
      ]
     },
     "execution_count": 24,
     "metadata": {},
     "output_type": "execute_result"
    }
   ],
   "source": [
    "mytime.minute"
   ]
  },
  {
   "cell_type": "code",
   "execution_count": 26,
   "id": "feecb799-d4f8-4691-a459-82bf57e06abf",
   "metadata": {},
   "outputs": [
    {
     "data": {
      "text/plain": [
       "13"
      ]
     },
     "execution_count": 26,
     "metadata": {},
     "output_type": "execute_result"
    }
   ],
   "source": [
    "mytime.hour"
   ]
  },
  {
   "cell_type": "code",
   "execution_count": 28,
   "id": "fab48400-cab1-4258-850d-5487026d39d3",
   "metadata": {},
   "outputs": [
    {
     "name": "stdout",
     "output_type": "stream",
     "text": [
      "13:20:01.000020\n"
     ]
    }
   ],
   "source": [
    "print(mytime)"
   ]
  },
  {
   "cell_type": "code",
   "execution_count": 30,
   "id": "3277d9f5-3497-41be-9f5d-b56f403821bc",
   "metadata": {},
   "outputs": [
    {
     "data": {
      "text/plain": [
       "20"
      ]
     },
     "execution_count": 30,
     "metadata": {},
     "output_type": "execute_result"
    }
   ],
   "source": [
    "mytime.microsecond"
   ]
  },
  {
   "cell_type": "code",
   "execution_count": 32,
   "id": "754344fe-c34c-47eb-b312-3dab694f456b",
   "metadata": {},
   "outputs": [
    {
     "data": {
      "text/plain": [
       "datetime.time"
      ]
     },
     "execution_count": 32,
     "metadata": {},
     "output_type": "execute_result"
    }
   ],
   "source": [
    "type(mytime)"
   ]
  },
  {
   "cell_type": "code",
   "execution_count": 34,
   "id": "83d14e55-c967-41c5-8d0a-e1678e3dffa9",
   "metadata": {},
   "outputs": [],
   "source": [
    "today = datetime.date.today()"
   ]
  },
  {
   "cell_type": "code",
   "execution_count": 36,
   "id": "1cc738bb-b053-43a4-9672-a8066064498c",
   "metadata": {},
   "outputs": [
    {
     "name": "stdout",
     "output_type": "stream",
     "text": [
      "2024-05-30\n"
     ]
    }
   ],
   "source": [
    "print(today)"
   ]
  },
  {
   "cell_type": "code",
   "execution_count": 38,
   "id": "6adf0697-7c5c-4fd6-a294-ff7d8e97615f",
   "metadata": {},
   "outputs": [
    {
     "data": {
      "text/plain": [
       "2024"
      ]
     },
     "execution_count": 38,
     "metadata": {},
     "output_type": "execute_result"
    }
   ],
   "source": [
    "today.year"
   ]
  },
  {
   "cell_type": "code",
   "execution_count": 40,
   "id": "df2cb8c5-8830-4374-9492-cb5a87ebd143",
   "metadata": {},
   "outputs": [
    {
     "data": {
      "text/plain": [
       "5"
      ]
     },
     "execution_count": 40,
     "metadata": {},
     "output_type": "execute_result"
    }
   ],
   "source": [
    "today.month"
   ]
  },
  {
   "cell_type": "code",
   "execution_count": 42,
   "id": "74eee4e3-e632-4b35-88b0-492dae46d579",
   "metadata": {},
   "outputs": [
    {
     "data": {
      "text/plain": [
       "30"
      ]
     },
     "execution_count": 42,
     "metadata": {},
     "output_type": "execute_result"
    }
   ],
   "source": [
    "today.day"
   ]
  },
  {
   "cell_type": "code",
   "execution_count": 44,
   "id": "02dfefdb-895a-4e24-9b35-a21e68ef91e2",
   "metadata": {},
   "outputs": [
    {
     "data": {
      "text/plain": [
       "'Thu May 30 00:00:00 2024'"
      ]
     },
     "execution_count": 44,
     "metadata": {},
     "output_type": "execute_result"
    }
   ],
   "source": [
    "today.ctime()"
   ]
  },
  {
   "cell_type": "code",
   "execution_count": 46,
   "id": "e399388f-a4f2-4d2f-ab8e-9c450159a196",
   "metadata": {},
   "outputs": [],
   "source": [
    "from datetime import datetime"
   ]
  },
  {
   "cell_type": "code",
   "execution_count": 50,
   "id": "99654157-a22d-4893-866c-9ab51c643c2d",
   "metadata": {},
   "outputs": [],
   "source": [
    "mydatetime = datetime(2021, 10, 3, 14, 20, 1,)"
   ]
  },
  {
   "cell_type": "code",
   "execution_count": 52,
   "id": "5a6770fb-d5c3-4e15-b909-0977507eb247",
   "metadata": {},
   "outputs": [
    {
     "name": "stdout",
     "output_type": "stream",
     "text": [
      "2021-10-03 14:20:01\n"
     ]
    }
   ],
   "source": [
    "print(mydatetime)"
   ]
  },
  {
   "cell_type": "code",
   "execution_count": 56,
   "id": "b681cb39-f4c2-4c9c-a1c5-4c0cf06b7cb9",
   "metadata": {},
   "outputs": [],
   "source": [
    "mydatetime = mydatetime.replace(year=2020)"
   ]
  },
  {
   "cell_type": "code",
   "execution_count": 58,
   "id": "49c7c678-acbd-4336-9e4b-99ddc0d50871",
   "metadata": {},
   "outputs": [
    {
     "name": "stdout",
     "output_type": "stream",
     "text": [
      "2020-10-03 14:20:01\n"
     ]
    }
   ],
   "source": [
    "print(mydatetime)"
   ]
  },
  {
   "cell_type": "code",
   "execution_count": 60,
   "id": "e43b2714-9221-4d86-89a4-1315b6c5d3c8",
   "metadata": {},
   "outputs": [],
   "source": [
    "# DATE"
   ]
  },
  {
   "cell_type": "code",
   "execution_count": 62,
   "id": "3c194e17-97a5-49d2-ad21-9fe5290bc8a3",
   "metadata": {},
   "outputs": [],
   "source": [
    "from datetime import date"
   ]
  },
  {
   "cell_type": "code",
   "execution_count": 64,
   "id": "8209ab13-bf1f-4cc2-9216-e793ef7473e2",
   "metadata": {},
   "outputs": [],
   "source": [
    "date1 = date(2021, 11, 3)\n",
    "date2 = date(2020, 11, 3)"
   ]
  },
  {
   "cell_type": "code",
   "execution_count": 68,
   "id": "0a3e16d1-9837-4fb9-a1d8-50d35670e23f",
   "metadata": {},
   "outputs": [],
   "source": [
    "result = date1 - date2"
   ]
  },
  {
   "cell_type": "code",
   "execution_count": 70,
   "id": "bc241537-9378-4ea4-91cc-5a009c75f970",
   "metadata": {},
   "outputs": [
    {
     "data": {
      "text/plain": [
       "datetime.timedelta"
      ]
     },
     "execution_count": 70,
     "metadata": {},
     "output_type": "execute_result"
    }
   ],
   "source": [
    "type(result)"
   ]
  },
  {
   "cell_type": "code",
   "execution_count": 72,
   "id": "eda7fb2f-e118-43b8-b2f0-768ec4c11fb9",
   "metadata": {},
   "outputs": [
    {
     "data": {
      "text/plain": [
       "365"
      ]
     },
     "execution_count": 72,
     "metadata": {},
     "output_type": "execute_result"
    }
   ],
   "source": [
    "result.days"
   ]
  },
  {
   "cell_type": "code",
   "execution_count": 74,
   "id": "8236c492-4d79-48bd-bb4a-61ea4c45e5bc",
   "metadata": {},
   "outputs": [],
   "source": [
    "datetime1 = datetime(2021, 11, 3, 22, 0)\n",
    "datetime2 = datetime(2020, 11, 3, 12, 0)"
   ]
  },
  {
   "cell_type": "code",
   "execution_count": 76,
   "id": "244fdd02-0fd5-4c10-a494-f85db7cf7685",
   "metadata": {},
   "outputs": [
    {
     "data": {
      "text/plain": [
       "datetime.timedelta(days=365, seconds=36000)"
      ]
     },
     "execution_count": 76,
     "metadata": {},
     "output_type": "execute_result"
    }
   ],
   "source": [
    "datetime1 - datetime2"
   ]
  },
  {
   "cell_type": "code",
   "execution_count": 78,
   "id": "c85fded9-e6c6-40a3-980c-065b30535e9f",
   "metadata": {},
   "outputs": [
    {
     "data": {
      "text/plain": [
       "10.0"
      ]
     },
     "execution_count": 78,
     "metadata": {},
     "output_type": "execute_result"
    }
   ],
   "source": [
    "36000/60/60"
   ]
  },
  {
   "cell_type": "code",
   "execution_count": 80,
   "id": "62ac7431-d12a-434e-9f40-957da3190c15",
   "metadata": {},
   "outputs": [],
   "source": [
    "mydiff = datetime1 - datetime2"
   ]
  },
  {
   "cell_type": "code",
   "execution_count": 82,
   "id": "df173c05-b57c-44b2-ab23-8a1617969d5c",
   "metadata": {},
   "outputs": [
    {
     "data": {
      "text/plain": [
       "36000"
      ]
     },
     "execution_count": 82,
     "metadata": {},
     "output_type": "execute_result"
    }
   ],
   "source": [
    "mydiff.seconds"
   ]
  },
  {
   "cell_type": "code",
   "execution_count": 84,
   "id": "1752459e-0502-4352-9eff-69734384c06b",
   "metadata": {},
   "outputs": [
    {
     "data": {
      "text/plain": [
       "31572000.0"
      ]
     },
     "execution_count": 84,
     "metadata": {},
     "output_type": "execute_result"
    }
   ],
   "source": [
    "mydiff.total_seconds()"
   ]
  }
 ],
 "metadata": {
  "kernelspec": {
   "display_name": "Python 3 (ipykernel)",
   "language": "python",
   "name": "python3"
  },
  "language_info": {
   "codemirror_mode": {
    "name": "ipython",
    "version": 3
   },
   "file_extension": ".py",
   "mimetype": "text/x-python",
   "name": "python",
   "nbconvert_exporter": "python",
   "pygments_lexer": "ipython3",
   "version": "3.11.7"
  }
 },
 "nbformat": 4,
 "nbformat_minor": 5
}
