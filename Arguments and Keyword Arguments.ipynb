{
 "cells": [
  {
   "cell_type": "code",
   "execution_count": 4,
   "id": "646f5d78-85e2-4071-a808-37f2a9a5982f",
   "metadata": {},
   "outputs": [],
   "source": [
    "def myfunc(a, b, c = 0, d = 0, e = 0):\n",
    "    # Returns 5% of the sum of a  and b\n",
    "    return sum((a, b, c, d, e)) * 0.05"
   ]
  },
  {
   "cell_type": "code",
   "execution_count": 6,
   "id": "61006c50-f9ed-4e97-b1d9-c3af42b75603",
   "metadata": {},
   "outputs": [
    {
     "data": {
      "text/plain": [
       "15.15"
      ]
     },
     "execution_count": 6,
     "metadata": {},
     "output_type": "execute_result"
    }
   ],
   "source": [
    "myfunc(40, 60, 100, 100, 3)"
   ]
  },
  {
   "cell_type": "code",
   "execution_count": 8,
   "id": "8f77ab1d-1b4b-4ea3-8b83-55fd6cb61b89",
   "metadata": {},
   "outputs": [],
   "source": [
    "def myfunc(*args):\n",
    "    return sum(args) * 0.05"
   ]
  },
  {
   "cell_type": "code",
   "execution_count": 10,
   "id": "91ccaf83-684c-491a-9d46-dae6e42ad5fc",
   "metadata": {},
   "outputs": [
    {
     "data": {
      "text/plain": [
       "11.75"
      ]
     },
     "execution_count": 10,
     "metadata": {},
     "output_type": "execute_result"
    }
   ],
   "source": [
    "myfunc(40, 60, 100, 1, 34)"
   ]
  },
  {
   "cell_type": "code",
   "execution_count": 12,
   "id": "5f54e3d7-ee83-4e4b-bcd4-bc7166e5cb5c",
   "metadata": {},
   "outputs": [],
   "source": [
    "def myfunc(*args):\n",
    "    for item in args:\n",
    "        print(item)"
   ]
  },
  {
   "cell_type": "code",
   "execution_count": 14,
   "id": "85afac69-cd65-4cfe-8328-ac74da12bbb6",
   "metadata": {},
   "outputs": [
    {
     "name": "stdout",
     "output_type": "stream",
     "text": [
      "40\n",
      "60\n",
      "100\n",
      "1\n",
      "34\n"
     ]
    }
   ],
   "source": [
    "myfunc(40, 60, 100, 1, 34)"
   ]
  },
  {
   "cell_type": "code",
   "execution_count": 16,
   "id": "8870ea1c-0eb9-4c57-88e1-83db47a6b220",
   "metadata": {},
   "outputs": [],
   "source": [
    "def myfunc(**kwargs):\n",
    "    if 'fruit' in kwargs:\n",
    "        print('My fruit of choice is {}'.format(kwargs['fruit']))\n",
    "    else:\n",
    "        print('I did not find any fruit here')"
   ]
  },
  {
   "cell_type": "code",
   "execution_count": 18,
   "id": "cf9de95d-6340-4765-a5e6-2f274da35d19",
   "metadata": {},
   "outputs": [
    {
     "name": "stdout",
     "output_type": "stream",
     "text": [
      "My fruit of choice is apple\n"
     ]
    }
   ],
   "source": [
    "myfunc(fruit = 'apple', veggie = 'lettuce')"
   ]
  },
  {
   "cell_type": "code",
   "execution_count": 20,
   "id": "ba86c6c6-92a9-4012-9bfa-831aac98cb00",
   "metadata": {},
   "outputs": [],
   "source": [
    "def myfunc(*args, **kwargs):\n",
    "\n",
    "    print('I would like {} {}'.format(args[0], kwargs['food']))"
   ]
  },
  {
   "cell_type": "code",
   "execution_count": 22,
   "id": "b77a5c1a-e203-43ba-9efd-5c7152fed7ad",
   "metadata": {},
   "outputs": [
    {
     "name": "stdout",
     "output_type": "stream",
     "text": [
      "I would like 10 eggs\n"
     ]
    }
   ],
   "source": [
    "myfunc(10, 20, 30, fruit = 'orange', food = 'eggs', animal = 'dog')"
   ]
  },
  {
   "cell_type": "code",
   "execution_count": 35,
   "id": "f3e867d7-b7bf-4f74-8e79-e2db4db9f137",
   "metadata": {},
   "outputs": [],
   "source": [
    "def myfunc(*args, **kwargs):\n",
    "\n",
    "    print(f\"I would like {args[0]} {kwargs['food']}\")"
   ]
  },
  {
   "cell_type": "code",
   "execution_count": 37,
   "id": "a376caff-a36b-42ad-9b4d-68664a410a38",
   "metadata": {},
   "outputs": [
    {
     "name": "stdout",
     "output_type": "stream",
     "text": [
      "I would like 10 eggs\n"
     ]
    }
   ],
   "source": [
    "myfunc(10, 20, 30, fruit = 'orange', food = 'eggs', animal = 'dog')"
   ]
  }
 ],
 "metadata": {
  "kernelspec": {
   "display_name": "Python 3 (ipykernel)",
   "language": "python",
   "name": "python3"
  },
  "language_info": {
   "codemirror_mode": {
    "name": "ipython",
    "version": 3
   },
   "file_extension": ".py",
   "mimetype": "text/x-python",
   "name": "python",
   "nbconvert_exporter": "python",
   "pygments_lexer": "ipython3",
   "version": "3.11.7"
  }
 },
 "nbformat": 4,
 "nbformat_minor": 5
}
