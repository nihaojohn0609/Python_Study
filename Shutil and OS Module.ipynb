{
 "cells": [
  {
   "cell_type": "code",
   "execution_count": 2,
   "id": "67583e16-73b5-455e-b573-4ee02d408d45",
   "metadata": {},
   "outputs": [
    {
     "data": {
      "text/plain": [
       "'C:\\\\Users\\\\nihao\\\\Python'"
      ]
     },
     "execution_count": 2,
     "metadata": {},
     "output_type": "execute_result"
    }
   ],
   "source": [
    "pwd"
   ]
  },
  {
   "cell_type": "code",
   "execution_count": 4,
   "id": "109c2553-018c-4dd2-b110-69b82aad42dd",
   "metadata": {},
   "outputs": [],
   "source": [
    "f = open('practice.txt', 'w+')\n",
    "f.write('This is a test string')\n",
    "f.close()"
   ]
  },
  {
   "cell_type": "code",
   "execution_count": 6,
   "id": "628ac54f-b0d1-4311-82e1-2b18a920d03a",
   "metadata": {},
   "outputs": [],
   "source": [
    "import os"
   ]
  },
  {
   "cell_type": "code",
   "execution_count": 8,
   "id": "855af0c7-b36f-4cda-b4e2-c349bd7877f2",
   "metadata": {},
   "outputs": [
    {
     "data": {
      "text/plain": [
       "'C:\\\\Users\\\\nihao\\\\Python'"
      ]
     },
     "execution_count": 8,
     "metadata": {},
     "output_type": "execute_result"
    }
   ],
   "source": [
    "os.getcwd()"
   ]
  },
  {
   "cell_type": "code",
   "execution_count": 10,
   "id": "6f8047ef-ea06-4b5f-a026-0a3b5aba9f65",
   "metadata": {},
   "outputs": [
    {
     "data": {
      "text/plain": [
       "['.ipynb_checkpoints',\n",
       " 'Accepting User Input.ipynb',\n",
       " 'Arguments and Keyword Arguments.ipynb',\n",
       " 'Basic Functions.ipynb',\n",
       " 'Booleans.ipynb',\n",
       " 'cap.py',\n",
       " 'Chaining Comparison Operators.ipynb',\n",
       " 'Collections.ipynb',\n",
       " 'Comparison Operators.ipynb',\n",
       " 'Decorators.ipynb',\n",
       " 'dhfjdkshfjdks.txt',\n",
       " 'Dictionaries.ipynb',\n",
       " 'Displaying Information.ipynb',\n",
       " 'Errors and Exception Handling.ipynb',\n",
       " 'Errors and Exceptions Homework.ipynb',\n",
       " 'For Loops.ipynb',\n",
       " 'Function Practice Exercises.ipynb',\n",
       " 'Functions and Methods Homework.ipynb',\n",
       " 'Generators.ipynb',\n",
       " 'Guessing Game Challenge.ipynb',\n",
       " 'If, Elif, Else statements.ipynb',\n",
       " 'Input & Output with Basic Files.ipynb',\n",
       " 'Interactions Between Functions.ipynb',\n",
       " 'Iterators and Generators Homework.ipynb',\n",
       " 'Lambda Expressions, Map, Filter.ipynb',\n",
       " 'List Comprehensions.ipynb',\n",
       " 'Lists.ipynb',\n",
       " 'Logical Functions.ipynb',\n",
       " 'Methods.ipynb',\n",
       " 'Milestone Project 1.ipynb',\n",
       " 'Milestone Project 2.ipynb',\n",
       " 'myfile.txt',\n",
       " 'myfirstnotebook.ipynb',\n",
       " 'MyMainPackage',\n",
       " 'mymodule.py',\n",
       " 'myprogram.py',\n",
       " 'my_new_file.txt',\n",
       " 'Nested Statements and Scope.ipynb',\n",
       " 'Numbers.ipynb',\n",
       " 'Objects and Data Structures Assessment Test.ipynb',\n",
       " 'one.py',\n",
       " 'OOP - Attributes and Class Keyword.ipynb',\n",
       " 'OOP - Class Object Attributes and Methods.ipynb',\n",
       " 'OOP - Inheritance and Polymorphism.ipynb',\n",
       " 'OOP - Special Methods.ipynb',\n",
       " 'OOP Challenge.ipynb',\n",
       " 'OOP Homework.ipynb',\n",
       " 'practice.txt',\n",
       " 'Sets.ipynb',\n",
       " 'Shutil and OS Module.ipynb',\n",
       " 'Simple User Interaction.ipynb',\n",
       " 'simple1.py',\n",
       " 'Statements Assessment Test.ipynb',\n",
       " 'Strings.ipynb',\n",
       " 'testfile',\n",
       " 'test_cap.py',\n",
       " 'Tuple Unpacking with Functions.ipynb',\n",
       " 'Tuples.ipynb',\n",
       " 'two.py',\n",
       " 'Useful Operators.ipynb',\n",
       " 'Validating User Input.ipynb',\n",
       " 'War Game.ipynb',\n",
       " 'While Loops.ipynb',\n",
       " '__pycache__']"
      ]
     },
     "execution_count": 10,
     "metadata": {},
     "output_type": "execute_result"
    }
   ],
   "source": [
    "os.listdir()"
   ]
  },
  {
   "cell_type": "code",
   "execution_count": 12,
   "id": "f3014bff-b76a-4bf9-ad62-d1d8b908337a",
   "metadata": {},
   "outputs": [
    {
     "data": {
      "text/plain": [
       "['All Users', 'Default', 'Default User', 'desktop.ini', 'nihao', 'Public']"
      ]
     },
     "execution_count": 12,
     "metadata": {},
     "output_type": "execute_result"
    }
   ],
   "source": [
    "os.listdir('C:\\\\Users')"
   ]
  },
  {
   "cell_type": "code",
   "execution_count": 14,
   "id": "4241a2d0-37e8-45c7-9771-4566770944bf",
   "metadata": {},
   "outputs": [],
   "source": [
    "import shutil"
   ]
  },
  {
   "cell_type": "code",
   "execution_count": 20,
   "id": "83c4326f-3f71-43b7-af3b-91a5959bcab7",
   "metadata": {},
   "outputs": [
    {
     "data": {
      "text/plain": [
       "'C:\\\\Users\\\\nihao\\\\practice.txt'"
      ]
     },
     "execution_count": 20,
     "metadata": {},
     "output_type": "execute_result"
    }
   ],
   "source": [
    "shutil.move('practice.txt', 'C:\\\\Users\\\\nihao')"
   ]
  },
  {
   "cell_type": "code",
   "execution_count": 22,
   "id": "081b6111-ec43-47aa-adda-cbd71bf806fe",
   "metadata": {},
   "outputs": [
    {
     "data": {
      "text/plain": [
       "['.anaconda',\n",
       " '.android',\n",
       " '.cache',\n",
       " '.codelite-gdbinit',\n",
       " '.conda',\n",
       " '.condarc',\n",
       " '.config',\n",
       " '.continuum',\n",
       " '.emulator_console_auth_token',\n",
       " '.gitconfig',\n",
       " '.gnupg',\n",
       " '.gradle',\n",
       " '.ipynb_checkpoints',\n",
       " '.ipython',\n",
       " '.jupyter',\n",
       " '.lesshst',\n",
       " '.m2',\n",
       " '.p2',\n",
       " '.tooling',\n",
       " '.vscode',\n",
       " '2.exe',\n",
       " '3D Objects',\n",
       " 'a.exe',\n",
       " 'ai_overlay_tmp',\n",
       " 'anaconda3',\n",
       " 'AppData',\n",
       " 'Application Data',\n",
       " 'Contacts',\n",
       " 'Cookies',\n",
       " 'Desktop',\n",
       " 'Documents',\n",
       " 'Downloads',\n",
       " 'Favorites',\n",
       " 'git',\n",
       " 'hsperfdata_nihao',\n",
       " 'IdeaProjects',\n",
       " 'IntelGraphicsProfiles',\n",
       " 'Links',\n",
       " 'Local Settings',\n",
       " 'Music',\n",
       " 'My Documents',\n",
       " 'NetHood',\n",
       " 'NTUSER.DAT',\n",
       " 'ntuser.dat.LOG1',\n",
       " 'ntuser.dat.LOG2',\n",
       " 'NTUSER.DAT{963497bb-ddf7-11ed-b639-f15482b20f8a}.TM.blf',\n",
       " 'NTUSER.DAT{963497bb-ddf7-11ed-b639-f15482b20f8a}.TMContainer00000000000000000001.regtrans-ms',\n",
       " 'NTUSER.DAT{963497bb-ddf7-11ed-b639-f15482b20f8a}.TMContainer00000000000000000002.regtrans-ms',\n",
       " 'ntuser.ini',\n",
       " 'OneDrive',\n",
       " 'Oracle',\n",
       " 'Postman',\n",
       " 'practice.txt',\n",
       " 'PrintHood',\n",
       " 'Python',\n",
       " 'Recent',\n",
       " 'Roaming',\n",
       " 'Saved Games',\n",
       " 'Searches',\n",
       " 'SendTo',\n",
       " 'Templates',\n",
       " 'test.c',\n",
       " 'test.exe',\n",
       " 'test1.c',\n",
       " 'test1.exe',\n",
       " 'test2.exe',\n",
       " 'Tracing',\n",
       " 'Videos',\n",
       " '시작 메뉴']"
      ]
     },
     "execution_count": 22,
     "metadata": {},
     "output_type": "execute_result"
    }
   ],
   "source": [
    "os.listdir('C:\\\\Users\\\\nihao')"
   ]
  },
  {
   "cell_type": "code",
   "execution_count": 24,
   "id": "db6cf298-1723-42e4-ad03-b29523c2e291",
   "metadata": {},
   "outputs": [],
   "source": [
    "import send2trash"
   ]
  },
  {
   "cell_type": "code",
   "execution_count": 26,
   "id": "7eee1563-4fce-4f13-bbb0-5525692bff87",
   "metadata": {},
   "outputs": [
    {
     "data": {
      "text/plain": [
       "['.ipynb_checkpoints',\n",
       " 'Accepting User Input.ipynb',\n",
       " 'Arguments and Keyword Arguments.ipynb',\n",
       " 'Basic Functions.ipynb',\n",
       " 'Booleans.ipynb',\n",
       " 'cap.py',\n",
       " 'Chaining Comparison Operators.ipynb',\n",
       " 'Collections.ipynb',\n",
       " 'Comparison Operators.ipynb',\n",
       " 'Decorators.ipynb',\n",
       " 'dhfjdkshfjdks.txt',\n",
       " 'Dictionaries.ipynb',\n",
       " 'Displaying Information.ipynb',\n",
       " 'Errors and Exception Handling.ipynb',\n",
       " 'Errors and Exceptions Homework.ipynb',\n",
       " 'For Loops.ipynb',\n",
       " 'Function Practice Exercises.ipynb',\n",
       " 'Functions and Methods Homework.ipynb',\n",
       " 'Generators.ipynb',\n",
       " 'Guessing Game Challenge.ipynb',\n",
       " 'If, Elif, Else statements.ipynb',\n",
       " 'Input & Output with Basic Files.ipynb',\n",
       " 'Interactions Between Functions.ipynb',\n",
       " 'Iterators and Generators Homework.ipynb',\n",
       " 'Lambda Expressions, Map, Filter.ipynb',\n",
       " 'List Comprehensions.ipynb',\n",
       " 'Lists.ipynb',\n",
       " 'Logical Functions.ipynb',\n",
       " 'Methods.ipynb',\n",
       " 'Milestone Project 1.ipynb',\n",
       " 'Milestone Project 2.ipynb',\n",
       " 'myfile.txt',\n",
       " 'myfirstnotebook.ipynb',\n",
       " 'MyMainPackage',\n",
       " 'mymodule.py',\n",
       " 'myprogram.py',\n",
       " 'my_new_file.txt',\n",
       " 'Nested Statements and Scope.ipynb',\n",
       " 'Numbers.ipynb',\n",
       " 'Objects and Data Structures Assessment Test.ipynb',\n",
       " 'one.py',\n",
       " 'OOP - Attributes and Class Keyword.ipynb',\n",
       " 'OOP - Class Object Attributes and Methods.ipynb',\n",
       " 'OOP - Inheritance and Polymorphism.ipynb',\n",
       " 'OOP - Special Methods.ipynb',\n",
       " 'OOP Challenge.ipynb',\n",
       " 'OOP Homework.ipynb',\n",
       " 'Sets.ipynb',\n",
       " 'Shutil and OS Module.ipynb',\n",
       " 'Simple User Interaction.ipynb',\n",
       " 'simple1.py',\n",
       " 'Statements Assessment Test.ipynb',\n",
       " 'Strings.ipynb',\n",
       " 'testfile',\n",
       " 'test_cap.py',\n",
       " 'Tuple Unpacking with Functions.ipynb',\n",
       " 'Tuples.ipynb',\n",
       " 'two.py',\n",
       " 'Useful Operators.ipynb',\n",
       " 'Validating User Input.ipynb',\n",
       " 'War Game.ipynb',\n",
       " 'While Loops.ipynb',\n",
       " '__pycache__']"
      ]
     },
     "execution_count": 26,
     "metadata": {},
     "output_type": "execute_result"
    }
   ],
   "source": [
    "os.listdir()"
   ]
  },
  {
   "cell_type": "code",
   "execution_count": 28,
   "id": "6021e5c8-fd5a-43aa-b680-77162dd76ea1",
   "metadata": {},
   "outputs": [
    {
     "data": {
      "text/plain": [
       "'C:\\\\Users\\\\nihao\\\\Python\\\\practice.txt'"
      ]
     },
     "execution_count": 28,
     "metadata": {},
     "output_type": "execute_result"
    }
   ],
   "source": [
    "shutil.move('C:\\\\Users\\\\nihao\\\\practice.txt', os.getcwd())"
   ]
  },
  {
   "cell_type": "code",
   "execution_count": 30,
   "id": "64c6b935-3086-4da2-9d48-7f567781d8e2",
   "metadata": {},
   "outputs": [
    {
     "data": {
      "text/plain": [
       "['.ipynb_checkpoints',\n",
       " 'Accepting User Input.ipynb',\n",
       " 'Arguments and Keyword Arguments.ipynb',\n",
       " 'Basic Functions.ipynb',\n",
       " 'Booleans.ipynb',\n",
       " 'cap.py',\n",
       " 'Chaining Comparison Operators.ipynb',\n",
       " 'Collections.ipynb',\n",
       " 'Comparison Operators.ipynb',\n",
       " 'Decorators.ipynb',\n",
       " 'dhfjdkshfjdks.txt',\n",
       " 'Dictionaries.ipynb',\n",
       " 'Displaying Information.ipynb',\n",
       " 'Errors and Exception Handling.ipynb',\n",
       " 'Errors and Exceptions Homework.ipynb',\n",
       " 'For Loops.ipynb',\n",
       " 'Function Practice Exercises.ipynb',\n",
       " 'Functions and Methods Homework.ipynb',\n",
       " 'Generators.ipynb',\n",
       " 'Guessing Game Challenge.ipynb',\n",
       " 'If, Elif, Else statements.ipynb',\n",
       " 'Input & Output with Basic Files.ipynb',\n",
       " 'Interactions Between Functions.ipynb',\n",
       " 'Iterators and Generators Homework.ipynb',\n",
       " 'Lambda Expressions, Map, Filter.ipynb',\n",
       " 'List Comprehensions.ipynb',\n",
       " 'Lists.ipynb',\n",
       " 'Logical Functions.ipynb',\n",
       " 'Methods.ipynb',\n",
       " 'Milestone Project 1.ipynb',\n",
       " 'Milestone Project 2.ipynb',\n",
       " 'myfile.txt',\n",
       " 'myfirstnotebook.ipynb',\n",
       " 'MyMainPackage',\n",
       " 'mymodule.py',\n",
       " 'myprogram.py',\n",
       " 'my_new_file.txt',\n",
       " 'Nested Statements and Scope.ipynb',\n",
       " 'Numbers.ipynb',\n",
       " 'Objects and Data Structures Assessment Test.ipynb',\n",
       " 'one.py',\n",
       " 'OOP - Attributes and Class Keyword.ipynb',\n",
       " 'OOP - Class Object Attributes and Methods.ipynb',\n",
       " 'OOP - Inheritance and Polymorphism.ipynb',\n",
       " 'OOP - Special Methods.ipynb',\n",
       " 'OOP Challenge.ipynb',\n",
       " 'OOP Homework.ipynb',\n",
       " 'practice.txt',\n",
       " 'Sets.ipynb',\n",
       " 'Shutil and OS Module.ipynb',\n",
       " 'Simple User Interaction.ipynb',\n",
       " 'simple1.py',\n",
       " 'Statements Assessment Test.ipynb',\n",
       " 'Strings.ipynb',\n",
       " 'testfile',\n",
       " 'test_cap.py',\n",
       " 'Tuple Unpacking with Functions.ipynb',\n",
       " 'Tuples.ipynb',\n",
       " 'two.py',\n",
       " 'Useful Operators.ipynb',\n",
       " 'Validating User Input.ipynb',\n",
       " 'War Game.ipynb',\n",
       " 'While Loops.ipynb',\n",
       " '__pycache__']"
      ]
     },
     "execution_count": 30,
     "metadata": {},
     "output_type": "execute_result"
    }
   ],
   "source": [
    "os.listdir()"
   ]
  },
  {
   "cell_type": "code",
   "execution_count": 32,
   "id": "0504dcbf-64c4-4c8a-832d-e55664ce05a8",
   "metadata": {},
   "outputs": [],
   "source": [
    "send2trash.send2trash('practice.txt')"
   ]
  },
  {
   "cell_type": "code",
   "execution_count": 34,
   "id": "a0d77bba-2449-4cb0-bdcc-7dc90fb8f1f5",
   "metadata": {},
   "outputs": [
    {
     "data": {
      "text/plain": [
       "['.ipynb_checkpoints',\n",
       " 'Accepting User Input.ipynb',\n",
       " 'Arguments and Keyword Arguments.ipynb',\n",
       " 'Basic Functions.ipynb',\n",
       " 'Booleans.ipynb',\n",
       " 'cap.py',\n",
       " 'Chaining Comparison Operators.ipynb',\n",
       " 'Collections.ipynb',\n",
       " 'Comparison Operators.ipynb',\n",
       " 'Decorators.ipynb',\n",
       " 'dhfjdkshfjdks.txt',\n",
       " 'Dictionaries.ipynb',\n",
       " 'Displaying Information.ipynb',\n",
       " 'Errors and Exception Handling.ipynb',\n",
       " 'Errors and Exceptions Homework.ipynb',\n",
       " 'For Loops.ipynb',\n",
       " 'Function Practice Exercises.ipynb',\n",
       " 'Functions and Methods Homework.ipynb',\n",
       " 'Generators.ipynb',\n",
       " 'Guessing Game Challenge.ipynb',\n",
       " 'If, Elif, Else statements.ipynb',\n",
       " 'Input & Output with Basic Files.ipynb',\n",
       " 'Interactions Between Functions.ipynb',\n",
       " 'Iterators and Generators Homework.ipynb',\n",
       " 'Lambda Expressions, Map, Filter.ipynb',\n",
       " 'List Comprehensions.ipynb',\n",
       " 'Lists.ipynb',\n",
       " 'Logical Functions.ipynb',\n",
       " 'Methods.ipynb',\n",
       " 'Milestone Project 1.ipynb',\n",
       " 'Milestone Project 2.ipynb',\n",
       " 'myfile.txt',\n",
       " 'myfirstnotebook.ipynb',\n",
       " 'MyMainPackage',\n",
       " 'mymodule.py',\n",
       " 'myprogram.py',\n",
       " 'my_new_file.txt',\n",
       " 'Nested Statements and Scope.ipynb',\n",
       " 'Numbers.ipynb',\n",
       " 'Objects and Data Structures Assessment Test.ipynb',\n",
       " 'one.py',\n",
       " 'OOP - Attributes and Class Keyword.ipynb',\n",
       " 'OOP - Class Object Attributes and Methods.ipynb',\n",
       " 'OOP - Inheritance and Polymorphism.ipynb',\n",
       " 'OOP - Special Methods.ipynb',\n",
       " 'OOP Challenge.ipynb',\n",
       " 'OOP Homework.ipynb',\n",
       " 'Sets.ipynb',\n",
       " 'Shutil and OS Module.ipynb',\n",
       " 'Simple User Interaction.ipynb',\n",
       " 'simple1.py',\n",
       " 'Statements Assessment Test.ipynb',\n",
       " 'Strings.ipynb',\n",
       " 'testfile',\n",
       " 'test_cap.py',\n",
       " 'Tuple Unpacking with Functions.ipynb',\n",
       " 'Tuples.ipynb',\n",
       " 'two.py',\n",
       " 'Useful Operators.ipynb',\n",
       " 'Validating User Input.ipynb',\n",
       " 'War Game.ipynb',\n",
       " 'While Loops.ipynb',\n",
       " '__pycache__']"
      ]
     },
     "execution_count": 34,
     "metadata": {},
     "output_type": "execute_result"
    }
   ],
   "source": [
    "os.listdir()"
   ]
  },
  {
   "cell_type": "code",
   "execution_count": 36,
   "id": "52915848-82fb-4099-92bf-ccc55324bb02",
   "metadata": {},
   "outputs": [
    {
     "data": {
      "text/plain": [
       "'C:\\\\Users\\\\nihao\\\\Python'"
      ]
     },
     "execution_count": 36,
     "metadata": {},
     "output_type": "execute_result"
    }
   ],
   "source": [
    "os.getcwd()"
   ]
  },
  {
   "cell_type": "code",
   "execution_count": 38,
   "id": "07eaa7ad-5a76-4bfc-bfcc-7897ec05860e",
   "metadata": {},
   "outputs": [
    {
     "name": "stdout",
     "output_type": "stream",
     "text": [
      "Currently looking at C:\\Users\\nihao\\Python\\Example_Top_Level\n",
      "\n",
      "\n",
      "The subfolders are: \n",
      "\t Subfolder: .ipynb_checkpoints\n",
      "\t Subfolder: Mid-Example-One\n",
      "\n",
      "\n",
      "the files are: \n",
      "\t File: Mid-Example.txt\n",
      "\n",
      "\n",
      "Currently looking at C:\\Users\\nihao\\Python\\Example_Top_Level\\.ipynb_checkpoints\n",
      "\n",
      "\n",
      "The subfolders are: \n",
      "\n",
      "\n",
      "the files are: \n",
      "\n",
      "\n",
      "Currently looking at C:\\Users\\nihao\\Python\\Example_Top_Level\\Mid-Example-One\n",
      "\n",
      "\n",
      "The subfolders are: \n",
      "\t Subfolder: .ipynb_checkpoints\n",
      "\t Subfolder: Bottom-Level-One\n",
      "\t Subfolder: Bottom-Level-Two\n",
      "\n",
      "\n",
      "the files are: \n",
      "\t File: Mid-Level-Doc.txt\n",
      "\n",
      "\n",
      "Currently looking at C:\\Users\\nihao\\Python\\Example_Top_Level\\Mid-Example-One\\.ipynb_checkpoints\n",
      "\n",
      "\n",
      "The subfolders are: \n",
      "\n",
      "\n",
      "the files are: \n",
      "\n",
      "\n",
      "Currently looking at C:\\Users\\nihao\\Python\\Example_Top_Level\\Mid-Example-One\\Bottom-Level-One\n",
      "\n",
      "\n",
      "The subfolders are: \n",
      "\t Subfolder: .ipynb_checkpoints\n",
      "\n",
      "\n",
      "the files are: \n",
      "\t File: One_Text.txt\n",
      "\n",
      "\n",
      "Currently looking at C:\\Users\\nihao\\Python\\Example_Top_Level\\Mid-Example-One\\Bottom-Level-One\\.ipynb_checkpoints\n",
      "\n",
      "\n",
      "The subfolders are: \n",
      "\n",
      "\n",
      "the files are: \n",
      "\n",
      "\n",
      "Currently looking at C:\\Users\\nihao\\Python\\Example_Top_Level\\Mid-Example-One\\Bottom-Level-Two\n",
      "\n",
      "\n",
      "The subfolders are: \n",
      "\t Subfolder: .ipynb_checkpoints\n",
      "\n",
      "\n",
      "the files are: \n",
      "\t File: Bottom-Text-Two.txt\n",
      "\n",
      "\n",
      "Currently looking at C:\\Users\\nihao\\Python\\Example_Top_Level\\Mid-Example-One\\Bottom-Level-Two\\.ipynb_checkpoints\n",
      "\n",
      "\n",
      "The subfolders are: \n",
      "\n",
      "\n",
      "the files are: \n",
      "\n",
      "\n"
     ]
    }
   ],
   "source": [
    "file_path = 'C:\\\\Users\\\\nihao\\\\Python\\\\Example_Top_Level'\n",
    "for folder, sub_folders, files in os.walk(file_path):\n",
    "\n",
    "    print(f\"Currently looking at {folder}\")\n",
    "    print('\\n')\n",
    "    print('The subfolders are: ')\n",
    "    for sub_fold in sub_folders:\n",
    "        print(f\"\\t Subfolder: {sub_fold}\")\n",
    "\n",
    "    print('\\n')\n",
    "    print(\"the files are: \")\n",
    "    for f in files:\n",
    "        print(f\"\\t File: {f}\")\n",
    "    print('\\n')"
   ]
  },
  {
   "cell_type": "code",
   "execution_count": null,
   "id": "b1ca0441-6a77-4597-a09b-9e6b6c07f98c",
   "metadata": {},
   "outputs": [],
   "source": []
  }
 ],
 "metadata": {
  "kernelspec": {
   "display_name": "Python 3 (ipykernel)",
   "language": "python",
   "name": "python3"
  },
  "language_info": {
   "codemirror_mode": {
    "name": "ipython",
    "version": 3
   },
   "file_extension": ".py",
   "mimetype": "text/x-python",
   "name": "python",
   "nbconvert_exporter": "python",
   "pygments_lexer": "ipython3",
   "version": "3.11.7"
  }
 },
 "nbformat": 4,
 "nbformat_minor": 5
}
