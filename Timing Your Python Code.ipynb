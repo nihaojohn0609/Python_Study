{
 "cells": [
  {
   "cell_type": "code",
   "execution_count": 1,
   "id": "54a279db-62df-4538-b4b2-a19b9a7be051",
   "metadata": {},
   "outputs": [
    {
     "data": {
      "text/plain": [
       "10"
      ]
     },
     "execution_count": 1,
     "metadata": {},
     "output_type": "execute_result"
    }
   ],
   "source": [
    "10"
   ]
  },
  {
   "cell_type": "code",
   "execution_count": 3,
   "id": "755c92c2-441e-4f32-bf21-72ed2df8685d",
   "metadata": {},
   "outputs": [
    {
     "data": {
      "text/plain": [
       "3"
      ]
     },
     "execution_count": 3,
     "metadata": {},
     "output_type": "execute_result"
    }
   ],
   "source": [
    "3"
   ]
  },
  {
   "cell_type": "code",
   "execution_count": 5,
   "id": "1bbd843e-915b-4eb1-a139-37d5522c3631",
   "metadata": {},
   "outputs": [
    {
     "data": {
      "text/plain": [
       "['1', '2', '3']"
      ]
     },
     "execution_count": 5,
     "metadata": {},
     "output_type": "execute_result"
    }
   ],
   "source": [
    "['1', '2', '3']"
   ]
  },
  {
   "cell_type": "code",
   "execution_count": 7,
   "id": "e43f4014-caca-4a5d-abe2-05c73a19dad3",
   "metadata": {},
   "outputs": [],
   "source": [
    "def func_one(n):\n",
    "    return [str(num) for num in range(n)]"
   ]
  },
  {
   "cell_type": "code",
   "execution_count": 9,
   "id": "6c18a59e-2985-49b3-966f-b18702f58f90",
   "metadata": {},
   "outputs": [
    {
     "data": {
      "text/plain": [
       "['0', '1', '2', '3', '4', '5', '6', '7', '8', '9']"
      ]
     },
     "execution_count": 9,
     "metadata": {},
     "output_type": "execute_result"
    }
   ],
   "source": [
    "func_one(10)"
   ]
  },
  {
   "cell_type": "code",
   "execution_count": 11,
   "id": "7e62937d-0b59-4e1c-b12e-9bc8f912d71c",
   "metadata": {},
   "outputs": [],
   "source": [
    "def func_two(n):\n",
    "    return list(map(str, range(n)))"
   ]
  },
  {
   "cell_type": "code",
   "execution_count": 13,
   "id": "8c92c8f7-8214-43e6-aefd-96dd57202e7f",
   "metadata": {},
   "outputs": [
    {
     "data": {
      "text/plain": [
       "['0', '1', '2', '3', '4', '5', '6', '7', '8', '9']"
      ]
     },
     "execution_count": 13,
     "metadata": {},
     "output_type": "execute_result"
    }
   ],
   "source": [
    "func_two(10)"
   ]
  },
  {
   "cell_type": "code",
   "execution_count": 15,
   "id": "6127d267-085f-4f19-8b95-b7d828252c30",
   "metadata": {},
   "outputs": [],
   "source": [
    "import time"
   ]
  },
  {
   "cell_type": "code",
   "execution_count": 17,
   "id": "58474d26-5cf2-4bb1-a6a4-ddcbd424b83e",
   "metadata": {},
   "outputs": [
    {
     "name": "stdout",
     "output_type": "stream",
     "text": [
      "0.03490948677062988\n"
     ]
    }
   ],
   "source": [
    "# CURRENT TIE BEFORE\n",
    "start_time = time.time()\n",
    "# RUN CODE\n",
    "result = func_one(100000)\n",
    "# CURRENT TIME AFTER RUNNING CODE\n",
    "end_time = time.time()\n",
    "# ELAPSED TIME\n",
    "elapsed_time = end_time - start_time\n",
    "\n",
    "print(elapsed_time)"
   ]
  },
  {
   "cell_type": "code",
   "execution_count": 19,
   "id": "3eee85cb-fe62-485f-ae79-89a3845a687a",
   "metadata": {},
   "outputs": [
    {
     "name": "stdout",
     "output_type": "stream",
     "text": [
      "0.03590273857116699\n"
     ]
    }
   ],
   "source": [
    "# CURRENT TIE BEFORE\n",
    "start_time = time.time()\n",
    "# RUN CODE\n",
    "result = func_two(100000)\n",
    "# CURRENT TIME AFTER RUNNING CODE\n",
    "end_time = time.time()\n",
    "# ELAPSED TIME\n",
    "elapsed_time = end_time - start_time\n",
    "\n",
    "print(elapsed_time)"
   ]
  },
  {
   "cell_type": "code",
   "execution_count": 21,
   "id": "846f4cf3-44fa-4f5e-ab55-9438c5ccf29a",
   "metadata": {},
   "outputs": [],
   "source": [
    "import timeit"
   ]
  },
  {
   "cell_type": "code",
   "execution_count": 23,
   "id": "da6f74cb-1747-49b4-82ae-0ba76236cb55",
   "metadata": {},
   "outputs": [],
   "source": [
    "stmt = '''\n",
    "func_one(100)\n",
    "'''"
   ]
  },
  {
   "cell_type": "code",
   "execution_count": 25,
   "id": "32482ae9-152b-45a8-8f05-246f2726cf26",
   "metadata": {},
   "outputs": [],
   "source": [
    "setup = '''\n",
    "def func_one(n):\n",
    "    return [str(num) for num in range(n)]\n",
    "'''"
   ]
  },
  {
   "cell_type": "code",
   "execution_count": 28,
   "id": "d91e09cd-6c42-4b16-91ee-4d6f1682f7b8",
   "metadata": {},
   "outputs": [
    {
     "data": {
      "text/plain": [
       "1.6758403000421822"
      ]
     },
     "execution_count": 28,
     "metadata": {},
     "output_type": "execute_result"
    }
   ],
   "source": [
    "timeit.timeit(stmt, setup, number = 100000)"
   ]
  },
  {
   "cell_type": "code",
   "execution_count": 30,
   "id": "80247c52-76fc-47fd-a6e4-212254d81c4a",
   "metadata": {},
   "outputs": [],
   "source": [
    "stmt2 = '''\n",
    "func_two(100)\n",
    "'''"
   ]
  },
  {
   "cell_type": "code",
   "execution_count": 32,
   "id": "041d75fb-cc32-4aa6-b566-85352192b403",
   "metadata": {},
   "outputs": [],
   "source": [
    "setup2 = '''\n",
    "def func_two(n):\n",
    "    return list(map(str, range(n)))\n",
    "'''"
   ]
  },
  {
   "cell_type": "code",
   "execution_count": 34,
   "id": "a22a3739-fd2c-42b5-816e-5c25c2451a23",
   "metadata": {},
   "outputs": [
    {
     "data": {
      "text/plain": [
       "1.980278000002727"
      ]
     },
     "execution_count": 34,
     "metadata": {},
     "output_type": "execute_result"
    }
   ],
   "source": [
    "timeit.timeit(stmt2, setup2, number = 100000)"
   ]
  },
  {
   "cell_type": "code",
   "execution_count": 36,
   "id": "80a36c51-8c32-4385-a1de-3956efa9a2cd",
   "metadata": {},
   "outputs": [
    {
     "name": "stdout",
     "output_type": "stream",
     "text": [
      "16.8 µs ± 972 ns per loop (mean ± std. dev. of 7 runs, 100,000 loops each)\n"
     ]
    }
   ],
   "source": [
    "%%timeit\n",
    "func_one(100)"
   ]
  },
  {
   "cell_type": "code",
   "execution_count": 38,
   "id": "768ed5cd-799d-4182-87f6-a8c14fc67a55",
   "metadata": {},
   "outputs": [
    {
     "name": "stdout",
     "output_type": "stream",
     "text": [
      "18.7 µs ± 238 ns per loop (mean ± std. dev. of 7 runs, 10,000 loops each)\n"
     ]
    }
   ],
   "source": [
    "%%timeit\n",
    "func_two(100)"
   ]
  }
 ],
 "metadata": {
  "kernelspec": {
   "display_name": "Python 3 (ipykernel)",
   "language": "python",
   "name": "python3"
  },
  "language_info": {
   "codemirror_mode": {
    "name": "ipython",
    "version": 3
   },
   "file_extension": ".py",
   "mimetype": "text/x-python",
   "name": "python",
   "nbconvert_exporter": "python",
   "pygments_lexer": "ipython3",
   "version": "3.11.7"
  }
 },
 "nbformat": 4,
 "nbformat_minor": 5
}
