{
 "cells": [
  {
   "cell_type": "code",
   "execution_count": 2,
   "id": "51fd1ead-8e19-436a-84b2-97f592a0891c",
   "metadata": {},
   "outputs": [],
   "source": [
    "mylist = [1, 2, 3]"
   ]
  },
  {
   "cell_type": "code",
   "execution_count": 4,
   "id": "d331f4c3-479c-4f4f-830c-5e5e57f14aee",
   "metadata": {},
   "outputs": [
    {
     "data": {
      "text/plain": [
       "3"
      ]
     },
     "execution_count": 4,
     "metadata": {},
     "output_type": "execute_result"
    }
   ],
   "source": [
    "len(mylist)"
   ]
  },
  {
   "cell_type": "code",
   "execution_count": 6,
   "id": "bd8f7815-5d20-4366-8920-d8fb21e7c994",
   "metadata": {},
   "outputs": [],
   "source": [
    "class Sample():\n",
    "    pass"
   ]
  },
  {
   "cell_type": "code",
   "execution_count": 8,
   "id": "cc96976f-943b-462d-aa93-27cbf9ce35d9",
   "metadata": {},
   "outputs": [],
   "source": [
    "mysample = Sample()"
   ]
  },
  {
   "cell_type": "code",
   "execution_count": 12,
   "id": "8051fbdb-8f86-4cbd-ac85-2fe5a123e974",
   "metadata": {},
   "outputs": [
    {
     "name": "stdout",
     "output_type": "stream",
     "text": [
      "<__main__.Sample object at 0x0000017EBDB77050>\n"
     ]
    }
   ],
   "source": [
    "print(mysample)"
   ]
  },
  {
   "cell_type": "code",
   "execution_count": 53,
   "id": "6639c26d-8e70-41e7-bf85-5736606586e8",
   "metadata": {},
   "outputs": [],
   "source": [
    "class Book():\n",
    "\n",
    "    def __init__(self, title, author, pages):\n",
    "\n",
    "        self.title = title\n",
    "        self.author = author\n",
    "        self.pages = pages\n",
    "\n",
    "    def __str__(self):\n",
    "        return f\"{self.title} by {self.author}\"\n",
    "\n",
    "    def __len__(self):\n",
    "        return self.pages\n",
    "\n",
    "    def __del__(self):\n",
    "        print(\"A book object has been deleted\")"
   ]
  },
  {
   "cell_type": "code",
   "execution_count": 55,
   "id": "8edc4189-f1e3-4732-9e2a-21d16aa92d9b",
   "metadata": {},
   "outputs": [],
   "source": [
    "b = Book('Python rocks', 'Jose', 200)"
   ]
  },
  {
   "cell_type": "code",
   "execution_count": 57,
   "id": "9729b58e-06fb-4ed2-8ef6-0b4dac89203e",
   "metadata": {},
   "outputs": [
    {
     "name": "stdout",
     "output_type": "stream",
     "text": [
      "Python rocks by Jose\n"
     ]
    }
   ],
   "source": [
    "print(b)"
   ]
  },
  {
   "cell_type": "code",
   "execution_count": 59,
   "id": "5a128c86-36ac-4799-8a87-a81cd40b6dc9",
   "metadata": {},
   "outputs": [
    {
     "data": {
      "text/plain": [
       "'Python rocks by Jose'"
      ]
     },
     "execution_count": 59,
     "metadata": {},
     "output_type": "execute_result"
    }
   ],
   "source": [
    "str(b)"
   ]
  },
  {
   "cell_type": "code",
   "execution_count": 61,
   "id": "5f281726-3a02-444e-9269-d27649090847",
   "metadata": {},
   "outputs": [
    {
     "data": {
      "text/plain": [
       "200"
      ]
     },
     "execution_count": 61,
     "metadata": {},
     "output_type": "execute_result"
    }
   ],
   "source": [
    "len(b)"
   ]
  },
  {
   "cell_type": "code",
   "execution_count": 63,
   "id": "6d0405ce-d59e-48d7-a48b-1d980197d338",
   "metadata": {},
   "outputs": [
    {
     "name": "stdout",
     "output_type": "stream",
     "text": [
      "A book object has been deleted\n"
     ]
    }
   ],
   "source": [
    "del b"
   ]
  },
  {
   "cell_type": "code",
   "execution_count": 75,
   "id": "af4f9199-fc7f-4df4-b3ae-011b4d608cf4",
   "metadata": {},
   "outputs": [],
   "source": [
    "class Simple():\n",
    "\n",
    "    def __init__(self, value):\n",
    "\n",
    "        self.value = value\n",
    "\n",
    "    def add_to_value(self, amount):\n",
    "\n",
    "        self.value = self.value + amount\n",
    "        print('We just added {} to your value'.format(amount))"
   ]
  },
  {
   "cell_type": "code",
   "execution_count": 77,
   "id": "33fe9ecf-2d10-43ea-a0f8-218af7aeac79",
   "metadata": {},
   "outputs": [],
   "source": [
    "myobj = Simple(300)"
   ]
  },
  {
   "cell_type": "code",
   "execution_count": 79,
   "id": "393a12eb-9ff6-4155-8c99-36633e39b353",
   "metadata": {},
   "outputs": [
    {
     "data": {
      "text/plain": [
       "300"
      ]
     },
     "execution_count": 79,
     "metadata": {},
     "output_type": "execute_result"
    }
   ],
   "source": [
    "myobj.value"
   ]
  },
  {
   "cell_type": "code",
   "execution_count": 81,
   "id": "42675534-a065-4a1c-a6ea-2cddd2b2f2a3",
   "metadata": {},
   "outputs": [
    {
     "name": "stdout",
     "output_type": "stream",
     "text": [
      "We just added 500 to your value\n"
     ]
    }
   ],
   "source": [
    "myobj.add_to_value(500)"
   ]
  },
  {
   "cell_type": "code",
   "execution_count": 83,
   "id": "a9ca6035-cbd5-4e1b-9282-7e467602160d",
   "metadata": {},
   "outputs": [
    {
     "data": {
      "text/plain": [
       "800"
      ]
     },
     "execution_count": 83,
     "metadata": {},
     "output_type": "execute_result"
    }
   ],
   "source": [
    "myobj.value"
   ]
  }
 ],
 "metadata": {
  "kernelspec": {
   "display_name": "Python 3 (ipykernel)",
   "language": "python",
   "name": "python3"
  },
  "language_info": {
   "codemirror_mode": {
    "name": "ipython",
    "version": 3
   },
   "file_extension": ".py",
   "mimetype": "text/x-python",
   "name": "python",
   "nbconvert_exporter": "python",
   "pygments_lexer": "ipython3",
   "version": "3.11.7"
  }
 },
 "nbformat": 4,
 "nbformat_minor": 5
}
